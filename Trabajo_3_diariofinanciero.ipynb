{
 "cells": [
  {
   "cell_type": "code",
   "execution_count": null,
   "metadata": {},
   "outputs": [],
   "source": [
    "## con el diario financieroo\n",
    "\n",
    "import re\n",
    "from bs4 import BeautifulSoup\n",
    "import requests\n",
    "\n",
    "url = 'https://www.df.cl/economia-y-politica/pais/economia-chilena-se-desacelera-pib-del-tercer-trimestre-registra-menor'\n",
    "\n",
    "page = requests.get(url)\n",
    "\n",
    "from bs4 import BeautifulSoup\n",
    "page = BeautifulSoup(page.content, 'html.parser')\n",
    "print(page.prettify())"
   ]
  },
  {
   "cell_type": "code",
   "execution_count": null,
   "metadata": {},
   "outputs": [],
   "source": [
    "## h1  h2 h3\n",
    "\n",
    "h1_tag = page.find_all('h1')\n",
    "\n",
    "h2_tag = page.find_all('h2')\n",
    "\n",
    "h3_tag = page.find_all('h3')\n",
    "\n",
    "print(f'h1_tag:\\n{h1_tag}')\n",
    "\n",
    "print(f'h1_tag:\\n{h2_tag}')\n",
    "\n",
    "print(f'h1_tag:\\n{h3_tag}')"
   ]
  },
  {
   "cell_type": "code",
   "execution_count": null,
   "metadata": {},
   "outputs": [],
   "source": [
    "all_a = page.find_all('a',href=True)\n",
    "\n",
    "for a in all_a:\n",
    "    print(a['href'])"
   ]
  },
  {
   "cell_type": "code",
   "execution_count": null,
   "metadata": {},
   "outputs": [],
   "source": [
    "re_mach = page.find_all(text=re.compile(\"[0-9]+[A-Za-z0-9 \\-]*\"))\n",
    "print(re_mach)\n",
    "\n",
    "print(\"\\n\\n=========================\\n\\n\")\n",
    "\n",
    "\n",
    "print(re_mach[1].parent.get_text())"
   ]
  },
  {
   "cell_type": "code",
   "execution_count": null,
   "metadata": {},
   "outputs": [],
   "source": []
  }
 ],
 "metadata": {
  "kernelspec": {
   "display_name": "Python 3.10.8 64-bit (microsoft store)",
   "language": "python",
   "name": "python3"
  },
  "language_info": {
   "codemirror_mode": {
    "name": "ipython",
    "version": 3
   },
   "file_extension": ".py",
   "mimetype": "text/x-python",
   "name": "python",
   "nbconvert_exporter": "python",
   "pygments_lexer": "ipython3",
   "version": "3.10.8"
  },
  "orig_nbformat": 4,
  "vscode": {
   "interpreter": {
    "hash": "55a808d16bf328e86a0bb0594659d349c68917da1cea92407dc92d39412f9ec9"
   }
  }
 },
 "nbformat": 4,
 "nbformat_minor": 2
}
