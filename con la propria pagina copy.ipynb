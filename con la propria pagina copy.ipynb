{
 "cells": [
  {
   "cell_type": "code",
   "execution_count": null,
   "metadata": {},
   "outputs": [],
   "source": [
    "from bs4 import BeautifulSoup\n",
    "\n",
    "# Abriendo el archivo index.html alojado en la carpeta docs\n",
    "with open('C:/Users/ronal/OneDrive/Escritorio/big_data/trabajo_n_2/index.html') as doc_html:\n",
    "    page = BeautifulSoup(doc_html.read(), 'html.parser')\n",
    "\n",
    "# revisando el contenido del archivo file\n",
    "print(f'page: \\n{page.prettify()}')"
   ]
  },
  {
   "cell_type": "code",
   "execution_count": null,
   "metadata": {},
   "outputs": [],
   "source": [
    "# Obteniendo el primer elemento de un tag definido\n",
    "h2_tag = page.h2\n",
    "\n",
    "# Viendo que tiene la variable h1_tag\n",
    "print(f'h1_tag:\\n{h2_tag}')"
   ]
  },
  {
   "cell_type": "code",
   "execution_count": null,
   "metadata": {},
   "outputs": [],
   "source": [
    "# Obteniendo el texto que contiene el tag h1\n",
    "# Para esto a la variable que contiene la información se le agrega .string\n",
    "print(f\"viendo texto de h1_tag:\\n{h2_tag.string}\")"
   ]
  },
  {
   "cell_type": "code",
   "execution_count": null,
   "metadata": {},
   "outputs": [],
   "source": [
    "# buscando por tag usando el find, este devuelve el primer elemento que encuentra\n",
    "first_h2 = page.find('h2')\n",
    "print(first_h2)\n",
    "\n",
    "# obteniendo sólo el texto\n",
    "print(first_h2.string)\n",
    "\n",
    "\n",
    "################ CLASS ##################\n",
    "# Buscando la clase seccion con find\n",
    "class_seccion = page.find(class_='seccion')\n",
    "print(class_seccion)\n",
    "\n",
    "\n",
    "################ ID ##################\n",
    "# Buscando id header con find\n",
    "id_header = page.find(id='header')\n",
    "print(id_header)\n",
    "# recuerden que el id es unico en una pagina, por este motivo no es necesario usar el find_all, ver mas abajo"
   ]
  },
  {
   "cell_type": "code",
   "execution_count": null,
   "metadata": {},
   "outputs": [],
   "source": [
    "# encontrar todos los a tags\n",
    "all_h1 = page.find_all('h2')\n",
    "print(all_h1)\n",
    "\n",
    "# Como se observa es una lista, por esta razon se pueden ver los elementos uno por uno utilizando su posicion\n",
    "print(all_h1[1])\n",
    "# recordar que la posicion, comienza desde 0, por ende el 1 corresponde al segundo elemento\n",
    "\n",
    "\n",
    "##################################\n",
    "# Buscando por clase con el find_all\n",
    "class_secciones = page.find_all(class_='seccion')\n",
    "print(f\"class_secciones[1]:\\n{class_secciones[1]}\")"
   ]
  },
  {
   "cell_type": "code",
   "execution_count": null,
   "metadata": {},
   "outputs": [],
   "source": [
    "all_a = page.find_all('a',href=True)\n",
    "\n",
    "for a in all_a:\n",
    "    print(a['href'])"
   ]
  },
  {
   "cell_type": "code",
   "execution_count": null,
   "metadata": {},
   "outputs": [],
   "source": [
    "# importando re\n",
    "import re\n",
    "\n",
    "# obteniendo ingredientes de recetas\n",
    "# * se puede agregar limit, para limitar los resultados\n",
    "re_mach = page.find_all(text=re.compile(\"[0-9]+[A-Za-z0-9 \\-]*\"))\n",
    "print(re_mach)\n",
    "\n",
    "print(\"\\n\\n=========================\\n\\n\")\n",
    "\n",
    "# obteniendo el tag contenedor del elemento 0\n",
    "print(re_mach[1].parent.get_text())\n"
   ]
  },
  {
   "cell_type": "code",
   "execution_count": null,
   "metadata": {},
   "outputs": [],
   "source": [
    "# Importando Pandas\n",
    "import pandas as pd\n",
    " \n",
    "# Busca todos los tag tables contenidos en la página\n",
    "table = page.find_all('table')\n",
    "\n",
    "# con read_html lee un texto que este en html\n",
    "# str() convierte en texto lo que este en table[0]}\n",
    "#df = pd.read_html(str(table[0]))[0]\n",
    "\n",
    "# para ver el resultado se puede ver la variable al final o usando print, el problema del print para los data frames es que no se ven tan bonitos como al ponerlos al final\n",
    "#df\n",
    "\n",
    "table"
   ]
  },
  {
   "cell_type": "code",
   "execution_count": null,
   "metadata": {},
   "outputs": [],
   "source": [
    "# importando request\n",
    "import requests\n",
    "\n",
    "# se define variable con url sólo por orden\n",
    "url = 'https://www.falabella.com/falabella-cl/category/cat7090034/Tecnologia'\n",
    "\n",
    "# obtención de la página que se va a analizar\n",
    "page = requests.get(url)\n",
    "\n",
    "# Si el codigo es 200 significa que descargo bien\n",
    "print(f\"Codigo: {page.status_code}\")\n",
    "\n",
    "# el contenido de la pagina se encuentra en page.content, y con esto se lee con BeautifulSoap\n",
    "from bs4 import BeautifulSoup\n",
    "page = BeautifulSoup(page.content, 'html.parser')\n",
    "print(page.prettify())"
   ]
  },
  {
   "cell_type": "code",
   "execution_count": null,
   "metadata": {},
   "outputs": [],
   "source": []
  },
  {
   "cell_type": "code",
   "execution_count": null,
   "metadata": {},
   "outputs": [],
   "source": []
  }
 ],
 "metadata": {
  "kernelspec": {
   "display_name": "Python 3.10.8 64-bit (microsoft store)",
   "language": "python",
   "name": "python3"
  },
  "language_info": {
   "codemirror_mode": {
    "name": "ipython",
    "version": 3
   },
   "file_extension": ".py",
   "mimetype": "text/x-python",
   "name": "python",
   "nbconvert_exporter": "python",
   "pygments_lexer": "ipython3",
   "version": "3.10.8"
  },
  "orig_nbformat": 4,
  "vscode": {
   "interpreter": {
    "hash": "55a808d16bf328e86a0bb0594659d349c68917da1cea92407dc92d39412f9ec9"
   }
  }
 },
 "nbformat": 4,
 "nbformat_minor": 2
}
